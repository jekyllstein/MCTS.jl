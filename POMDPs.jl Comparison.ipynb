{
 "cells": [
  {
   "cell_type": "code",
   "execution_count": 4,
   "metadata": {},
   "outputs": [],
   "source": [
    "using POMDPs\n",
    "using QuickPOMDPs\n",
    "using MCTS\n",
    "using DecisionMakingProblems"
   ]
  },
  {
   "cell_type": "code",
   "execution_count": 2,
   "metadata": {},
   "outputs": [
    {
     "data": {
      "text/plain": [
       "QuickMDP{UUID(\"a6567997-3f55-432a-a329-fa3923f09fb7\"), Vector{Float64}, UInt8, NamedTuple{(:isterminal, :actionindex, :initialstate, :actions, :discount), Tuple{typeof(DecisionMakingProblems.isdone), Dict{UInt8, Int64}, UInt64, Vector{UInt8}, Float64}}}((isterminal = DecisionMakingProblems.isdone, actionindex = Dict{UInt8, Int64}(0x00 => 4, 0x02 => 2, 0x03 => 1, 0x01 => 3), initialstate = 0x0000000001000001, actions = UInt8[0x03, 0x02, 0x01, 0x00], discount = 0.99))"
      ]
     },
     "execution_count": 2,
     "metadata": {},
     "output_type": "execute_result"
    }
   ],
   "source": [
    "mdp2048 = QuickMDP(\n",
    "    actions = [\n",
    "        DecisionMakingProblems.UP, \n",
    "        DecisionMakingProblems.RIGHT, \n",
    "        DecisionMakingProblems.DOWN, \n",
    "        DecisionMakingProblems.LEFT\n",
    "    ],\n",
    "    initialstate = DecisionMakingProblems.initial_board(),\n",
    "    discount = 0.99,\n",
    "    isterminal = DecisionMakingProblems.isdone\n",
    ")"
   ]
  },
  {
   "cell_type": "code",
   "execution_count": 3,
   "metadata": {},
   "outputs": [
    {
     "ename": "LoadError",
     "evalue": "UndefVarError: MCTSSolver not defined",
     "output_type": "error",
     "traceback": [
      "UndefVarError: MCTSSolver not defined",
      "",
      "Stacktrace:",
      " [1] top-level scope",
      "   @ In[3]:1",
      " [2] eval",
      "   @ ./boot.jl:360 [inlined]",
      " [3] include_string(mapexpr::typeof(REPL.softscope), mod::Module, code::String, filename::String)",
      "   @ Base ./loading.jl:1094"
     ]
    }
   ],
   "source": [
    "solver = MCTSSolver(n_iterations=50, depth=20, exploration_constant=5.0)"
   ]
  }
 ],
 "metadata": {
  "kernelspec": {
   "display_name": "Julia 1.6.0",
   "language": "julia",
   "name": "julia-1.6"
  },
  "language_info": {
   "file_extension": ".jl",
   "mimetype": "application/julia",
   "name": "julia",
   "version": "1.6.0"
  }
 },
 "nbformat": 4,
 "nbformat_minor": 2
}
