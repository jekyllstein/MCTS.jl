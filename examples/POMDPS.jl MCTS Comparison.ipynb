{
 "cells": [
  {
   "cell_type": "code",
   "execution_count": 36,
   "metadata": {},
   "outputs": [],
   "source": [
    "using DecisionMakingProblems\n",
    "using POMDPs\n",
    "using QuickPOMDPs\n",
    "using POMDPModelTools\n",
    "using MCTS\n",
    "using POMDPSimulators\n",
    "using POMDPPolicies\n",
    "using BenchmarkTools\n",
    "using Plots\n",
    "using Statistics"
   ]
  },
  {
   "cell_type": "code",
   "execution_count": 38,
   "metadata": {},
   "outputs": [],
   "source": [
    "twenty_forty_eight_config = DecisionMakingProblems.TwentyFortyEight(;γ=0.99)\n",
    "\n",
    "twenty_forty_eight = QuickMDP(\n",
    "    gen = function(s, a, rng)\n",
    "        sp, r = DecisionMakingProblems.transition_and_reward(twenty_forty_eight_config, s, a)\n",
    "        return (sp=sp, r=r)\n",
    "    end,\n",
    "    actions = [\n",
    "        DecisionMakingProblems.UP,\n",
    "        DecisionMakingProblems.RIGHT, \n",
    "        DecisionMakingProblems.DOWN, \n",
    "        DecisionMakingProblems.LEFT\n",
    "    ],\n",
    "    discount=0.99,\n",
    "    initialstate = ImplicitDistribution(rng->DecisionMakingProblems.initial_board()),\n",
    "    isterminal = s -> DecisionMakingProblems.isdone(s),\n",
    "    statetype=UInt64\n",
    ");"
   ]
  },
  {
   "cell_type": "code",
   "execution_count": 39,
   "metadata": {},
   "outputs": [],
   "source": [
    "solver = MCTSSolver(n_iterations=100, depth=10, exploration_constant=5.0)\n",
    "planner = solve(solver, twenty_forty_eight);"
   ]
  },
  {
   "cell_type": "code",
   "execution_count": 40,
   "metadata": {},
   "outputs": [
    {
     "data": {
      "text/plain": [
       "0x0000010100000000"
      ]
     },
     "execution_count": 40,
     "metadata": {},
     "output_type": "execute_result"
    }
   ],
   "source": [
    "init = DecisionMakingProblems.initial_board()"
   ]
  },
  {
   "cell_type": "code",
   "execution_count": 41,
   "metadata": {},
   "outputs": [
    {
     "data": {
      "text/plain": [
       "RolloutSimulator{Random._GLOBAL_RNG}(Random._GLOBAL_RNG(), nothing, nothing)"
      ]
     },
     "execution_count": 41,
     "metadata": {},
     "output_type": "execute_result"
    }
   ],
   "source": [
    "simulator = RolloutSimulator()"
   ]
  },
  {
   "cell_type": "code",
   "execution_count": 42,
   "metadata": {},
   "outputs": [
    {
     "data": {
      "text/plain": [
       "100-element Vector{Float64}:\n",
       " 1409.962482285106\n",
       " 1368.68002336626\n",
       " 1398.997569619414\n",
       " 1352.6169915143869\n",
       " 1436.5276313588834\n",
       " 1361.159123218977\n",
       " 1359.8212264894476\n",
       " 1441.9721895293062\n",
       " 1385.595908094408\n",
       " 1371.0287315963417\n",
       " 1433.1437060707935\n",
       " 1426.6378987545088\n",
       " 1421.9818673859402\n",
       "    ⋮\n",
       " 1327.457714709257\n",
       " 1364.3559365583667\n",
       " 1415.8930342013614\n",
       " 1324.7566152326963\n",
       " 1292.5423172119072\n",
       " 1394.381317250008\n",
       " 1363.2482914547932\n",
       " 1468.7615453793612\n",
       " 1387.9611747623971\n",
       " 1396.1747872765184\n",
       " 1386.564780270363\n",
       " 1396.0002668175023"
      ]
     },
     "execution_count": 42,
     "metadata": {},
     "output_type": "execute_result"
    }
   ],
   "source": [
    "rollouts_zach = [ simulate(simulator, twenty_forty_eight, planner, init) for _ in 1:100 ]"
   ]
  },
  {
   "cell_type": "code",
   "execution_count": 43,
   "metadata": {},
   "outputs": [
    {
     "name": "stdout",
     "output_type": "stream",
     "text": [
      "1394.1186397195147 ± 53.60594235303231"
     ]
    }
   ],
   "source": [
    "print(\"$(mean(rollouts_zach)) ± $(std(rollouts_zach))\")"
   ]
  },
  {
   "cell_type": "code",
   "execution_count": 44,
   "metadata": {},
   "outputs": [
    {
     "data": {
      "image/svg+xml": [
       "<?xml version=\"1.0\" encoding=\"utf-8\"?>\n",
       "<svg xmlns=\"http://www.w3.org/2000/svg\" xmlns:xlink=\"http://www.w3.org/1999/xlink\" width=\"600\" height=\"400\" viewBox=\"0 0 2400 1600\">\n",
       "<defs>\n",
       "  <clipPath id=\"clip650\">\n",
       "    <rect x=\"0\" y=\"0\" width=\"2400\" height=\"1600\"/>\n",
       "  </clipPath>\n",
       "</defs>\n",
       "<path clip-path=\"url(#clip650)\" d=\"\n",
       "M0 1600 L2400 1600 L2400 0 L0 0  Z\n",
       "  \" fill=\"#ffffff\" fill-rule=\"evenodd\" fill-opacity=\"1\"/>\n",
       "<defs>\n",
       "  <clipPath id=\"clip651\">\n",
       "    <rect x=\"480\" y=\"0\" width=\"1681\" height=\"1600\"/>\n",
       "  </clipPath>\n",
       "</defs>\n",
       "<path clip-path=\"url(#clip650)\" d=\"\n",
       "M141.853 1486.45 L2352.76 1486.45 L2352.76 47.2441 L141.853 47.2441  Z\n",
       "  \" fill=\"#ffffff\" fill-rule=\"evenodd\" fill-opacity=\"1\"/>\n",
       "<defs>\n",
       "  <clipPath id=\"clip652\">\n",
       "    <rect x=\"141\" y=\"47\" width=\"2212\" height=\"1440\"/>\n",
       "  </clipPath>\n",
       "</defs>\n",
       "<polyline clip-path=\"url(#clip652)\" style=\"stroke:#000000; stroke-linecap:butt; stroke-linejoin:round; stroke-width:2; stroke-opacity:0.1; fill:none\" points=\"\n",
       "  263.457,1486.45 263.457,47.2441 \n",
       "  \"/>\n",
       "<polyline clip-path=\"url(#clip652)\" style=\"stroke:#000000; stroke-linecap:butt; stroke-linejoin:round; stroke-width:2; stroke-opacity:0.1; fill:none\" points=\"\n",
       "  700.722,1486.45 700.722,47.2441 \n",
       "  \"/>\n",
       "<polyline clip-path=\"url(#clip652)\" style=\"stroke:#000000; stroke-linecap:butt; stroke-linejoin:round; stroke-width:2; stroke-opacity:0.1; fill:none\" points=\"\n",
       "  1137.99,1486.45 1137.99,47.2441 \n",
       "  \"/>\n",
       "<polyline clip-path=\"url(#clip652)\" style=\"stroke:#000000; stroke-linecap:butt; stroke-linejoin:round; stroke-width:2; stroke-opacity:0.1; fill:none\" points=\"\n",
       "  1575.25,1486.45 1575.25,47.2441 \n",
       "  \"/>\n",
       "<polyline clip-path=\"url(#clip652)\" style=\"stroke:#000000; stroke-linecap:butt; stroke-linejoin:round; stroke-width:2; stroke-opacity:0.1; fill:none\" points=\"\n",
       "  2012.52,1486.45 2012.52,47.2441 \n",
       "  \"/>\n",
       "<polyline clip-path=\"url(#clip650)\" style=\"stroke:#000000; stroke-linecap:butt; stroke-linejoin:round; stroke-width:4; stroke-opacity:1; fill:none\" points=\"\n",
       "  141.853,1486.45 2352.76,1486.45 \n",
       "  \"/>\n",
       "<polyline clip-path=\"url(#clip650)\" style=\"stroke:#000000; stroke-linecap:butt; stroke-linejoin:round; stroke-width:4; stroke-opacity:1; fill:none\" points=\"\n",
       "  263.457,1486.45 263.457,1467.55 \n",
       "  \"/>\n",
       "<polyline clip-path=\"url(#clip650)\" style=\"stroke:#000000; stroke-linecap:butt; stroke-linejoin:round; stroke-width:4; stroke-opacity:1; fill:none\" points=\"\n",
       "  700.722,1486.45 700.722,1467.55 \n",
       "  \"/>\n",
       "<polyline clip-path=\"url(#clip650)\" style=\"stroke:#000000; stroke-linecap:butt; stroke-linejoin:round; stroke-width:4; stroke-opacity:1; fill:none\" points=\"\n",
       "  1137.99,1486.45 1137.99,1467.55 \n",
       "  \"/>\n",
       "<polyline clip-path=\"url(#clip650)\" style=\"stroke:#000000; stroke-linecap:butt; stroke-linejoin:round; stroke-width:4; stroke-opacity:1; fill:none\" points=\"\n",
       "  1575.25,1486.45 1575.25,1467.55 \n",
       "  \"/>\n",
       "<polyline clip-path=\"url(#clip650)\" style=\"stroke:#000000; stroke-linecap:butt; stroke-linejoin:round; stroke-width:4; stroke-opacity:1; fill:none\" points=\"\n",
       "  2012.52,1486.45 2012.52,1467.55 \n",
       "  \"/>\n",
       "<path clip-path=\"url(#clip650)\" d=\"M207.982 1544.91 L215.621 1544.91 L215.621 1518.55 L207.311 1520.21 L207.311 1515.95 L215.575 1514.29 L220.251 1514.29 L220.251 1544.91 L227.89 1544.91 L227.89 1548.85 L207.982 1548.85 L207.982 1544.91 Z\" fill=\"#000000\" fill-rule=\"evenodd\" fill-opacity=\"1\" /><path clip-path=\"url(#clip650)\" d=\"M238.144 1544.91 L245.783 1544.91 L245.783 1518.55 L237.473 1520.21 L237.473 1515.95 L245.737 1514.29 L250.413 1514.29 L250.413 1544.91 L258.051 1544.91 L258.051 1548.85 L238.144 1548.85 L238.144 1544.91 Z\" fill=\"#000000\" fill-rule=\"evenodd\" fill-opacity=\"1\" /><path clip-path=\"url(#clip650)\" d=\"M277.496 1517.37 Q273.885 1517.37 272.056 1520.93 Q270.25 1524.47 270.25 1531.6 Q270.25 1538.71 272.056 1542.27 Q273.885 1545.82 277.496 1545.82 Q281.13 1545.82 282.936 1542.27 Q284.764 1538.71 284.764 1531.6 Q284.764 1524.47 282.936 1520.93 Q281.13 1517.37 277.496 1517.37 M277.496 1513.66 Q283.306 1513.66 286.362 1518.27 Q289.44 1522.85 289.44 1531.6 Q289.44 1540.33 286.362 1544.94 Q283.306 1549.52 277.496 1549.52 Q271.686 1549.52 268.607 1544.94 Q265.551 1540.33 265.551 1531.6 Q265.551 1522.85 268.607 1518.27 Q271.686 1513.66 277.496 1513.66 Z\" fill=\"#000000\" fill-rule=\"evenodd\" fill-opacity=\"1\" /><path clip-path=\"url(#clip650)\" d=\"M307.658 1517.37 Q304.047 1517.37 302.218 1520.93 Q300.412 1524.47 300.412 1531.6 Q300.412 1538.71 302.218 1542.27 Q304.047 1545.82 307.658 1545.82 Q311.292 1545.82 313.097 1542.27 Q314.926 1538.71 314.926 1531.6 Q314.926 1524.47 313.097 1520.93 Q311.292 1517.37 307.658 1517.37 M307.658 1513.66 Q313.468 1513.66 316.523 1518.27 Q319.602 1522.85 319.602 1531.6 Q319.602 1540.33 316.523 1544.94 Q313.468 1549.52 307.658 1549.52 Q301.848 1549.52 298.769 1544.94 Q295.713 1540.33 295.713 1531.6 Q295.713 1522.85 298.769 1518.27 Q301.848 1513.66 307.658 1513.66 Z\" fill=\"#000000\" fill-rule=\"evenodd\" fill-opacity=\"1\" /><path clip-path=\"url(#clip650)\" d=\"M645.248 1544.91 L652.887 1544.91 L652.887 1518.55 L644.577 1520.21 L644.577 1515.95 L652.841 1514.29 L657.516 1514.29 L657.516 1544.91 L665.155 1544.91 L665.155 1548.85 L645.248 1548.85 L645.248 1544.91 Z\" fill=\"#000000\" fill-rule=\"evenodd\" fill-opacity=\"1\" /><path clip-path=\"url(#clip650)\" d=\"M678.627 1544.91 L694.947 1544.91 L694.947 1548.85 L673.003 1548.85 L673.003 1544.91 Q675.665 1542.16 680.248 1537.53 Q684.854 1532.88 686.035 1531.53 Q688.28 1529.01 689.16 1527.27 Q690.063 1525.51 690.063 1523.82 Q690.063 1521.07 688.118 1519.33 Q686.197 1517.6 683.095 1517.6 Q680.896 1517.6 678.442 1518.36 Q676.012 1519.13 673.234 1520.68 L673.234 1515.95 Q676.058 1514.82 678.512 1514.24 Q680.965 1513.66 683.002 1513.66 Q688.373 1513.66 691.567 1516.35 Q694.762 1519.03 694.762 1523.52 Q694.762 1525.65 693.951 1527.57 Q693.164 1529.47 691.058 1532.07 Q690.479 1532.74 687.377 1535.95 Q684.276 1539.15 678.627 1544.91 Z\" fill=\"#000000\" fill-rule=\"evenodd\" fill-opacity=\"1\" /><path clip-path=\"url(#clip650)\" d=\"M714.762 1517.37 Q711.15 1517.37 709.322 1520.93 Q707.516 1524.47 707.516 1531.6 Q707.516 1538.71 709.322 1542.27 Q711.15 1545.82 714.762 1545.82 Q718.396 1545.82 720.201 1542.27 Q722.03 1538.71 722.03 1531.6 Q722.03 1524.47 720.201 1520.93 Q718.396 1517.37 714.762 1517.37 M714.762 1513.66 Q720.572 1513.66 723.627 1518.27 Q726.706 1522.85 726.706 1531.6 Q726.706 1540.33 723.627 1544.94 Q720.572 1549.52 714.762 1549.52 Q708.951 1549.52 705.873 1544.94 Q702.817 1540.33 702.817 1531.6 Q702.817 1522.85 705.873 1518.27 Q708.951 1513.66 714.762 1513.66 Z\" fill=\"#000000\" fill-rule=\"evenodd\" fill-opacity=\"1\" /><path clip-path=\"url(#clip650)\" d=\"M744.923 1517.37 Q741.312 1517.37 739.484 1520.93 Q737.678 1524.47 737.678 1531.6 Q737.678 1538.71 739.484 1542.27 Q741.312 1545.82 744.923 1545.82 Q748.558 1545.82 750.363 1542.27 Q752.192 1538.71 752.192 1531.6 Q752.192 1524.47 750.363 1520.93 Q748.558 1517.37 744.923 1517.37 M744.923 1513.66 Q750.734 1513.66 753.789 1518.27 Q756.868 1522.85 756.868 1531.6 Q756.868 1540.33 753.789 1544.94 Q750.734 1549.52 744.923 1549.52 Q739.113 1549.52 736.035 1544.94 Q732.979 1540.33 732.979 1531.6 Q732.979 1522.85 736.035 1518.27 Q739.113 1513.66 744.923 1513.66 Z\" fill=\"#000000\" fill-rule=\"evenodd\" fill-opacity=\"1\" /><path clip-path=\"url(#clip650)\" d=\"M1082.51 1544.91 L1090.15 1544.91 L1090.15 1518.55 L1081.84 1520.21 L1081.84 1515.95 L1090.11 1514.29 L1094.78 1514.29 L1094.78 1544.91 L1102.42 1544.91 L1102.42 1548.85 L1082.51 1548.85 L1082.51 1544.91 Z\" fill=\"#000000\" fill-rule=\"evenodd\" fill-opacity=\"1\" /><path clip-path=\"url(#clip650)\" d=\"M1126.03 1530.21 Q1129.39 1530.93 1131.26 1533.2 Q1133.16 1535.47 1133.16 1538.8 Q1133.16 1543.92 1129.64 1546.72 Q1126.12 1549.52 1119.64 1549.52 Q1117.47 1549.52 1115.15 1549.08 Q1112.86 1548.66 1110.41 1547.81 L1110.41 1543.29 Q1112.35 1544.43 1114.67 1545.01 Q1116.98 1545.58 1119.5 1545.58 Q1123.9 1545.58 1126.19 1543.85 Q1128.51 1542.11 1128.51 1538.8 Q1128.51 1535.75 1126.36 1534.03 Q1124.23 1532.3 1120.41 1532.3 L1116.38 1532.3 L1116.38 1528.45 L1120.59 1528.45 Q1124.04 1528.45 1125.87 1527.09 Q1127.7 1525.7 1127.7 1523.11 Q1127.7 1520.45 1125.8 1519.03 Q1123.93 1517.6 1120.41 1517.6 Q1118.49 1517.6 1116.29 1518.01 Q1114.09 1518.43 1111.45 1519.31 L1111.45 1515.14 Q1114.11 1514.4 1116.43 1514.03 Q1118.76 1513.66 1120.82 1513.66 Q1126.15 1513.66 1129.25 1516.09 Q1132.35 1518.5 1132.35 1522.62 Q1132.35 1525.49 1130.71 1527.48 Q1129.06 1529.45 1126.03 1530.21 Z\" fill=\"#000000\" fill-rule=\"evenodd\" fill-opacity=\"1\" /><path clip-path=\"url(#clip650)\" d=\"M1152.03 1517.37 Q1148.42 1517.37 1146.59 1520.93 Q1144.78 1524.47 1144.78 1531.6 Q1144.78 1538.71 1146.59 1542.27 Q1148.42 1545.82 1152.03 1545.82 Q1155.66 1545.82 1157.47 1542.27 Q1159.3 1538.71 1159.3 1531.6 Q1159.3 1524.47 1157.47 1520.93 Q1155.66 1517.37 1152.03 1517.37 M1152.03 1513.66 Q1157.84 1513.66 1160.89 1518.27 Q1163.97 1522.85 1163.97 1531.6 Q1163.97 1540.33 1160.89 1544.94 Q1157.84 1549.52 1152.03 1549.52 Q1146.22 1549.52 1143.14 1544.94 Q1140.08 1540.33 1140.08 1531.6 Q1140.08 1522.85 1143.14 1518.27 Q1146.22 1513.66 1152.03 1513.66 Z\" fill=\"#000000\" fill-rule=\"evenodd\" fill-opacity=\"1\" /><path clip-path=\"url(#clip650)\" d=\"M1182.19 1517.37 Q1178.58 1517.37 1176.75 1520.93 Q1174.94 1524.47 1174.94 1531.6 Q1174.94 1538.71 1176.75 1542.27 Q1178.58 1545.82 1182.19 1545.82 Q1185.82 1545.82 1187.63 1542.27 Q1189.46 1538.71 1189.46 1531.6 Q1189.46 1524.47 1187.63 1520.93 Q1185.82 1517.37 1182.19 1517.37 M1182.19 1513.66 Q1188 1513.66 1191.05 1518.27 Q1194.13 1522.85 1194.13 1531.6 Q1194.13 1540.33 1191.05 1544.94 Q1188 1549.52 1182.19 1549.52 Q1176.38 1549.52 1173.3 1544.94 Q1170.24 1540.33 1170.24 1531.6 Q1170.24 1522.85 1173.3 1518.27 Q1176.38 1513.66 1182.19 1513.66 Z\" fill=\"#000000\" fill-rule=\"evenodd\" fill-opacity=\"1\" /><path clip-path=\"url(#clip650)\" d=\"M1519.78 1544.91 L1527.42 1544.91 L1527.42 1518.55 L1519.11 1520.21 L1519.11 1515.95 L1527.37 1514.29 L1532.05 1514.29 L1532.05 1544.91 L1539.69 1544.91 L1539.69 1548.85 L1519.78 1548.85 L1519.78 1544.91 Z\" fill=\"#000000\" fill-rule=\"evenodd\" fill-opacity=\"1\" /><path clip-path=\"url(#clip650)\" d=\"M1561.98 1518.36 L1550.17 1536.81 L1561.98 1536.81 L1561.98 1518.36 M1560.75 1514.29 L1566.63 1514.29 L1566.63 1536.81 L1571.56 1536.81 L1571.56 1540.7 L1566.63 1540.7 L1566.63 1548.85 L1561.98 1548.85 L1561.98 1540.7 L1546.38 1540.7 L1546.38 1536.19 L1560.75 1514.29 Z\" fill=\"#000000\" fill-rule=\"evenodd\" fill-opacity=\"1\" /><path clip-path=\"url(#clip650)\" d=\"M1589.29 1517.37 Q1585.68 1517.37 1583.85 1520.93 Q1582.05 1524.47 1582.05 1531.6 Q1582.05 1538.71 1583.85 1542.27 Q1585.68 1545.82 1589.29 1545.82 Q1592.93 1545.82 1594.73 1542.27 Q1596.56 1538.71 1596.56 1531.6 Q1596.56 1524.47 1594.73 1520.93 Q1592.93 1517.37 1589.29 1517.37 M1589.29 1513.66 Q1595.1 1513.66 1598.16 1518.27 Q1601.24 1522.85 1601.24 1531.6 Q1601.24 1540.33 1598.16 1544.94 Q1595.1 1549.52 1589.29 1549.52 Q1583.48 1549.52 1580.4 1544.94 Q1577.35 1540.33 1577.35 1531.6 Q1577.35 1522.85 1580.4 1518.27 Q1583.48 1513.66 1589.29 1513.66 Z\" fill=\"#000000\" fill-rule=\"evenodd\" fill-opacity=\"1\" /><path clip-path=\"url(#clip650)\" d=\"M1619.45 1517.37 Q1615.84 1517.37 1614.02 1520.93 Q1612.21 1524.47 1612.21 1531.6 Q1612.21 1538.71 1614.02 1542.27 Q1615.84 1545.82 1619.45 1545.82 Q1623.09 1545.82 1624.89 1542.27 Q1626.72 1538.71 1626.72 1531.6 Q1626.72 1524.47 1624.89 1520.93 Q1623.09 1517.37 1619.45 1517.37 M1619.45 1513.66 Q1625.27 1513.66 1628.32 1518.27 Q1631.4 1522.85 1631.4 1531.6 Q1631.4 1540.33 1628.32 1544.94 Q1625.27 1549.52 1619.45 1549.52 Q1613.64 1549.52 1610.57 1544.94 Q1607.51 1540.33 1607.51 1531.6 Q1607.51 1522.85 1610.57 1518.27 Q1613.64 1513.66 1619.45 1513.66 Z\" fill=\"#000000\" fill-rule=\"evenodd\" fill-opacity=\"1\" /><path clip-path=\"url(#clip650)\" d=\"M1957.05 1544.91 L1964.68 1544.91 L1964.68 1518.55 L1956.37 1520.21 L1956.37 1515.95 L1964.64 1514.29 L1969.31 1514.29 L1969.31 1544.91 L1976.95 1544.91 L1976.95 1548.85 L1957.05 1548.85 L1957.05 1544.91 Z\" fill=\"#000000\" fill-rule=\"evenodd\" fill-opacity=\"1\" /><path clip-path=\"url(#clip650)\" d=\"M1986.44 1514.29 L2004.8 1514.29 L2004.8 1518.22 L1990.73 1518.22 L1990.73 1526.7 Q1991.74 1526.35 1992.76 1526.19 Q1993.78 1526 1994.8 1526 Q2000.59 1526 2003.97 1529.17 Q2007.35 1532.34 2007.35 1537.76 Q2007.35 1543.34 2003.87 1546.44 Q2000.4 1549.52 1994.08 1549.52 Q1991.91 1549.52 1989.64 1549.15 Q1987.39 1548.78 1984.98 1548.04 L1984.98 1543.34 Q1987.07 1544.47 1989.29 1545.03 Q1991.51 1545.58 1993.99 1545.58 Q1997.99 1545.58 2000.33 1543.48 Q2002.67 1541.37 2002.67 1537.76 Q2002.67 1534.15 2000.33 1532.04 Q1997.99 1529.94 1993.99 1529.94 Q1992.11 1529.94 1990.24 1530.35 Q1988.39 1530.77 1986.44 1531.65 L1986.44 1514.29 Z\" fill=\"#000000\" fill-rule=\"evenodd\" fill-opacity=\"1\" /><path clip-path=\"url(#clip650)\" d=\"M2026.56 1517.37 Q2022.95 1517.37 2021.12 1520.93 Q2019.31 1524.47 2019.31 1531.6 Q2019.31 1538.71 2021.12 1542.27 Q2022.95 1545.82 2026.56 1545.82 Q2030.19 1545.82 2032 1542.27 Q2033.83 1538.71 2033.83 1531.6 Q2033.83 1524.47 2032 1520.93 Q2030.19 1517.37 2026.56 1517.37 M2026.56 1513.66 Q2032.37 1513.66 2035.42 1518.27 Q2038.5 1522.85 2038.5 1531.6 Q2038.5 1540.33 2035.42 1544.94 Q2032.37 1549.52 2026.56 1549.52 Q2020.75 1549.52 2017.67 1544.94 Q2014.61 1540.33 2014.61 1531.6 Q2014.61 1522.85 2017.67 1518.27 Q2020.75 1513.66 2026.56 1513.66 Z\" fill=\"#000000\" fill-rule=\"evenodd\" fill-opacity=\"1\" /><path clip-path=\"url(#clip650)\" d=\"M2056.72 1517.37 Q2053.11 1517.37 2051.28 1520.93 Q2049.48 1524.47 2049.48 1531.6 Q2049.48 1538.71 2051.28 1542.27 Q2053.11 1545.82 2056.72 1545.82 Q2060.35 1545.82 2062.16 1542.27 Q2063.99 1538.71 2063.99 1531.6 Q2063.99 1524.47 2062.16 1520.93 Q2060.35 1517.37 2056.72 1517.37 M2056.72 1513.66 Q2062.53 1513.66 2065.59 1518.27 Q2068.66 1522.85 2068.66 1531.6 Q2068.66 1540.33 2065.59 1544.94 Q2062.53 1549.52 2056.72 1549.52 Q2050.91 1549.52 2047.83 1544.94 Q2044.78 1540.33 2044.78 1531.6 Q2044.78 1522.85 2047.83 1518.27 Q2050.91 1513.66 2056.72 1513.66 Z\" fill=\"#000000\" fill-rule=\"evenodd\" fill-opacity=\"1\" /><polyline clip-path=\"url(#clip652)\" style=\"stroke:#000000; stroke-linecap:butt; stroke-linejoin:round; stroke-width:2; stroke-opacity:0.1; fill:none\" points=\"\n",
       "  141.853,1445.72 2352.76,1445.72 \n",
       "  \"/>\n",
       "<polyline clip-path=\"url(#clip652)\" style=\"stroke:#000000; stroke-linecap:butt; stroke-linejoin:round; stroke-width:2; stroke-opacity:0.1; fill:none\" points=\"\n",
       "  141.853,1144 2352.76,1144 \n",
       "  \"/>\n",
       "<polyline clip-path=\"url(#clip652)\" style=\"stroke:#000000; stroke-linecap:butt; stroke-linejoin:round; stroke-width:2; stroke-opacity:0.1; fill:none\" points=\"\n",
       "  141.853,842.276 2352.76,842.276 \n",
       "  \"/>\n",
       "<polyline clip-path=\"url(#clip652)\" style=\"stroke:#000000; stroke-linecap:butt; stroke-linejoin:round; stroke-width:2; stroke-opacity:0.1; fill:none\" points=\"\n",
       "  141.853,540.556 2352.76,540.556 \n",
       "  \"/>\n",
       "<polyline clip-path=\"url(#clip652)\" style=\"stroke:#000000; stroke-linecap:butt; stroke-linejoin:round; stroke-width:2; stroke-opacity:0.1; fill:none\" points=\"\n",
       "  141.853,238.836 2352.76,238.836 \n",
       "  \"/>\n",
       "<polyline clip-path=\"url(#clip650)\" style=\"stroke:#000000; stroke-linecap:butt; stroke-linejoin:round; stroke-width:4; stroke-opacity:1; fill:none\" points=\"\n",
       "  141.853,1486.45 141.853,47.2441 \n",
       "  \"/>\n",
       "<polyline clip-path=\"url(#clip650)\" style=\"stroke:#000000; stroke-linecap:butt; stroke-linejoin:round; stroke-width:4; stroke-opacity:1; fill:none\" points=\"\n",
       "  141.853,1445.72 160.751,1445.72 \n",
       "  \"/>\n",
       "<polyline clip-path=\"url(#clip650)\" style=\"stroke:#000000; stroke-linecap:butt; stroke-linejoin:round; stroke-width:4; stroke-opacity:1; fill:none\" points=\"\n",
       "  141.853,1144 160.751,1144 \n",
       "  \"/>\n",
       "<polyline clip-path=\"url(#clip650)\" style=\"stroke:#000000; stroke-linecap:butt; stroke-linejoin:round; stroke-width:4; stroke-opacity:1; fill:none\" points=\"\n",
       "  141.853,842.276 160.751,842.276 \n",
       "  \"/>\n",
       "<polyline clip-path=\"url(#clip650)\" style=\"stroke:#000000; stroke-linecap:butt; stroke-linejoin:round; stroke-width:4; stroke-opacity:1; fill:none\" points=\"\n",
       "  141.853,540.556 160.751,540.556 \n",
       "  \"/>\n",
       "<polyline clip-path=\"url(#clip650)\" style=\"stroke:#000000; stroke-linecap:butt; stroke-linejoin:round; stroke-width:4; stroke-opacity:1; fill:none\" points=\"\n",
       "  141.853,238.836 160.751,238.836 \n",
       "  \"/>\n",
       "<path clip-path=\"url(#clip650)\" d=\"M93.9086 1431.51 Q90.2975 1431.51 88.4688 1435.08 Q86.6632 1438.62 86.6632 1445.75 Q86.6632 1452.86 88.4688 1456.42 Q90.2975 1459.96 93.9086 1459.96 Q97.5428 1459.96 99.3483 1456.42 Q101.177 1452.86 101.177 1445.75 Q101.177 1438.62 99.3483 1435.08 Q97.5428 1431.51 93.9086 1431.51 M93.9086 1427.81 Q99.7187 1427.81 102.774 1432.42 Q105.853 1437 105.853 1445.75 Q105.853 1454.48 102.774 1459.08 Q99.7187 1463.67 93.9086 1463.67 Q88.0984 1463.67 85.0197 1459.08 Q81.9642 1454.48 81.9642 1445.75 Q81.9642 1437 85.0197 1432.42 Q88.0984 1427.81 93.9086 1427.81 Z\" fill=\"#000000\" fill-rule=\"evenodd\" fill-opacity=\"1\" /><path clip-path=\"url(#clip650)\" d=\"M54.5569 1157.34 L62.1958 1157.34 L62.1958 1130.98 L53.8856 1132.64 L53.8856 1128.38 L62.1495 1126.72 L66.8254 1126.72 L66.8254 1157.34 L74.4642 1157.34 L74.4642 1161.28 L54.5569 1161.28 L54.5569 1157.34 Z\" fill=\"#000000\" fill-rule=\"evenodd\" fill-opacity=\"1\" /><path clip-path=\"url(#clip650)\" d=\"M93.9086 1129.79 Q90.2975 1129.79 88.4688 1133.36 Q86.6632 1136.9 86.6632 1144.03 Q86.6632 1151.14 88.4688 1154.7 Q90.2975 1158.24 93.9086 1158.24 Q97.5428 1158.24 99.3483 1154.7 Q101.177 1151.14 101.177 1144.03 Q101.177 1136.9 99.3483 1133.36 Q97.5428 1129.79 93.9086 1129.79 M93.9086 1126.09 Q99.7187 1126.09 102.774 1130.7 Q105.853 1135.28 105.853 1144.03 Q105.853 1152.76 102.774 1157.36 Q99.7187 1161.95 93.9086 1161.95 Q88.0984 1161.95 85.0197 1157.36 Q81.9642 1152.76 81.9642 1144.03 Q81.9642 1135.28 85.0197 1130.7 Q88.0984 1126.09 93.9086 1126.09 Z\" fill=\"#000000\" fill-rule=\"evenodd\" fill-opacity=\"1\" /><path clip-path=\"url(#clip650)\" d=\"M57.7745 855.621 L74.0939 855.621 L74.0939 859.556 L52.1495 859.556 L52.1495 855.621 Q54.8115 852.866 59.3949 848.237 Q64.0013 843.584 65.1819 842.241 Q67.4272 839.718 68.3068 837.982 Q69.2096 836.223 69.2096 834.533 Q69.2096 831.778 67.2652 830.042 Q65.3439 828.306 62.2421 828.306 Q60.043 828.306 57.5893 829.07 Q55.1588 829.834 52.381 831.385 L52.381 826.663 Q55.2051 825.528 57.6588 824.95 Q60.1124 824.371 62.1495 824.371 Q67.5198 824.371 70.7142 827.056 Q73.9087 829.741 73.9087 834.232 Q73.9087 836.362 73.0985 838.283 Q72.3115 840.181 70.205 842.774 Q69.6263 843.445 66.5245 846.663 Q63.4226 849.857 57.7745 855.621 Z\" fill=\"#000000\" fill-rule=\"evenodd\" fill-opacity=\"1\" /><path clip-path=\"url(#clip650)\" d=\"M93.9086 828.075 Q90.2975 828.075 88.4688 831.639 Q86.6632 835.181 86.6632 842.311 Q86.6632 849.417 88.4688 852.982 Q90.2975 856.524 93.9086 856.524 Q97.5428 856.524 99.3483 852.982 Q101.177 849.417 101.177 842.311 Q101.177 835.181 99.3483 831.639 Q97.5428 828.075 93.9086 828.075 M93.9086 824.371 Q99.7187 824.371 102.774 828.977 Q105.853 833.561 105.853 842.311 Q105.853 851.037 102.774 855.644 Q99.7187 860.227 93.9086 860.227 Q88.0984 860.227 85.0197 855.644 Q81.9642 851.037 81.9642 842.311 Q81.9642 833.561 85.0197 828.977 Q88.0984 824.371 93.9086 824.371 Z\" fill=\"#000000\" fill-rule=\"evenodd\" fill-opacity=\"1\" /><path clip-path=\"url(#clip650)\" d=\"M67.9133 539.202 Q71.2698 539.92 73.1448 542.188 Q75.0429 544.457 75.0429 547.79 Q75.0429 552.906 71.5244 555.706 Q68.0059 558.507 61.5245 558.507 Q59.3486 558.507 57.0338 558.068 Q54.7421 557.651 52.2884 556.794 L52.2884 552.281 Q54.2328 553.415 56.5477 553.994 Q58.8625 554.572 61.3856 554.572 Q65.7837 554.572 68.0754 552.836 Q70.3902 551.1 70.3902 547.79 Q70.3902 544.734 68.2374 543.021 Q66.1078 541.285 62.2884 541.285 L58.2606 541.285 L58.2606 537.443 L62.4735 537.443 Q65.9226 537.443 67.7513 536.077 Q69.58 534.688 69.58 532.095 Q69.58 529.433 67.6819 528.021 Q65.8069 526.586 62.2884 526.586 Q60.3671 526.586 58.168 527.003 Q55.969 527.42 53.3301 528.299 L53.3301 524.133 Q55.9921 523.392 58.3069 523.021 Q60.6449 522.651 62.705 522.651 Q68.0291 522.651 71.1309 525.082 Q74.2327 527.489 74.2327 531.609 Q74.2327 534.48 72.5892 536.47 Q70.9457 538.438 67.9133 539.202 Z\" fill=\"#000000\" fill-rule=\"evenodd\" fill-opacity=\"1\" /><path clip-path=\"url(#clip650)\" d=\"M93.9086 526.355 Q90.2975 526.355 88.4688 529.92 Q86.6632 533.461 86.6632 540.591 Q86.6632 547.697 88.4688 551.262 Q90.2975 554.804 93.9086 554.804 Q97.5428 554.804 99.3483 551.262 Q101.177 547.697 101.177 540.591 Q101.177 533.461 99.3483 529.92 Q97.5428 526.355 93.9086 526.355 M93.9086 522.651 Q99.7187 522.651 102.774 527.258 Q105.853 531.841 105.853 540.591 Q105.853 549.318 102.774 553.924 Q99.7187 558.507 93.9086 558.507 Q88.0984 558.507 85.0197 553.924 Q81.9642 549.318 81.9642 540.591 Q81.9642 531.841 85.0197 527.258 Q88.0984 522.651 93.9086 522.651 Z\" fill=\"#000000\" fill-rule=\"evenodd\" fill-opacity=\"1\" /><path clip-path=\"url(#clip650)\" d=\"M66.5939 225.63 L54.7884 244.079 L66.5939 244.079 L66.5939 225.63 M65.367 221.556 L71.2466 221.556 L71.2466 244.079 L76.1772 244.079 L76.1772 247.968 L71.2466 247.968 L71.2466 256.116 L66.5939 256.116 L66.5939 247.968 L50.9921 247.968 L50.9921 243.454 L65.367 221.556 Z\" fill=\"#000000\" fill-rule=\"evenodd\" fill-opacity=\"1\" /><path clip-path=\"url(#clip650)\" d=\"M93.9086 224.635 Q90.2975 224.635 88.4688 228.2 Q86.6632 231.741 86.6632 238.871 Q86.6632 245.977 88.4688 249.542 Q90.2975 253.084 93.9086 253.084 Q97.5428 253.084 99.3483 249.542 Q101.177 245.977 101.177 238.871 Q101.177 231.741 99.3483 228.2 Q97.5428 224.635 93.9086 224.635 M93.9086 220.931 Q99.7187 220.931 102.774 225.538 Q105.853 230.121 105.853 238.871 Q105.853 247.598 102.774 252.204 Q99.7187 256.788 93.9086 256.788 Q88.0984 256.788 85.0197 252.204 Q81.9642 247.598 81.9642 238.871 Q81.9642 230.121 85.0197 225.538 Q88.0984 220.931 93.9086 220.931 Z\" fill=\"#000000\" fill-rule=\"evenodd\" fill-opacity=\"1\" /><path clip-path=\"url(#clip652)\" d=\"\n",
       "M263.457 1415.54 L263.457 1445.72 L482.089 1445.72 L482.089 1415.54 L263.457 1415.54 L263.457 1415.54  Z\n",
       "  \" fill=\"#009af9\" fill-rule=\"evenodd\" fill-opacity=\"1\"/>\n",
       "<polyline clip-path=\"url(#clip652)\" style=\"stroke:#000000; stroke-linecap:butt; stroke-linejoin:round; stroke-width:4; stroke-opacity:1; fill:none\" points=\"\n",
       "  263.457,1415.54 263.457,1445.72 482.089,1445.72 482.089,1415.54 263.457,1415.54 \n",
       "  \"/>\n",
       "<path clip-path=\"url(#clip652)\" d=\"\n",
       "M482.089 1445.72 L482.089 1445.72 L700.722 1445.72 L700.722 1445.72 L482.089 1445.72 L482.089 1445.72  Z\n",
       "  \" fill=\"#009af9\" fill-rule=\"evenodd\" fill-opacity=\"1\"/>\n",
       "<polyline clip-path=\"url(#clip652)\" style=\"stroke:#000000; stroke-linecap:butt; stroke-linejoin:round; stroke-width:4; stroke-opacity:1; fill:none\" points=\"\n",
       "  482.089,1445.72 482.089,1445.72 700.722,1445.72 482.089,1445.72 \n",
       "  \"/>\n",
       "<path clip-path=\"url(#clip652)\" d=\"\n",
       "M700.722 1445.72 L700.722 1445.72 L919.355 1445.72 L919.355 1445.72 L700.722 1445.72 L700.722 1445.72  Z\n",
       "  \" fill=\"#009af9\" fill-rule=\"evenodd\" fill-opacity=\"1\"/>\n",
       "<polyline clip-path=\"url(#clip652)\" style=\"stroke:#000000; stroke-linecap:butt; stroke-linejoin:round; stroke-width:4; stroke-opacity:1; fill:none\" points=\"\n",
       "  700.722,1445.72 700.722,1445.72 919.355,1445.72 700.722,1445.72 \n",
       "  \"/>\n",
       "<path clip-path=\"url(#clip652)\" d=\"\n",
       "M919.355 1385.37 L919.355 1445.72 L1137.99 1445.72 L1137.99 1385.37 L919.355 1385.37 L919.355 1385.37  Z\n",
       "  \" fill=\"#009af9\" fill-rule=\"evenodd\" fill-opacity=\"1\"/>\n",
       "<polyline clip-path=\"url(#clip652)\" style=\"stroke:#000000; stroke-linecap:butt; stroke-linejoin:round; stroke-width:4; stroke-opacity:1; fill:none\" points=\"\n",
       "  919.355,1385.37 919.355,1445.72 1137.99,1445.72 1137.99,1385.37 919.355,1385.37 \n",
       "  \"/>\n",
       "<path clip-path=\"url(#clip652)\" d=\"\n",
       "M1137.99 1144 L1137.99 1445.72 L1356.62 1445.72 L1356.62 1144 L1137.99 1144 L1137.99 1144  Z\n",
       "  \" fill=\"#009af9\" fill-rule=\"evenodd\" fill-opacity=\"1\"/>\n",
       "<polyline clip-path=\"url(#clip652)\" style=\"stroke:#000000; stroke-linecap:butt; stroke-linejoin:round; stroke-width:4; stroke-opacity:1; fill:none\" points=\"\n",
       "  1137.99,1144 1137.99,1445.72 1356.62,1445.72 1356.62,1144 1137.99,1144 \n",
       "  \"/>\n",
       "<path clip-path=\"url(#clip652)\" d=\"\n",
       "M1356.62 87.9763 L1356.62 1445.72 L1575.25 1445.72 L1575.25 87.9763 L1356.62 87.9763 L1356.62 87.9763  Z\n",
       "  \" fill=\"#009af9\" fill-rule=\"evenodd\" fill-opacity=\"1\"/>\n",
       "<polyline clip-path=\"url(#clip652)\" style=\"stroke:#000000; stroke-linecap:butt; stroke-linejoin:round; stroke-width:4; stroke-opacity:1; fill:none\" points=\"\n",
       "  1356.62,87.9763 1356.62,1445.72 1575.25,1445.72 1575.25,87.9763 1356.62,87.9763 \n",
       "  \"/>\n",
       "<path clip-path=\"url(#clip652)\" d=\"\n",
       "M1575.25 570.728 L1575.25 1445.72 L1793.89 1445.72 L1793.89 570.728 L1575.25 570.728 L1575.25 570.728  Z\n",
       "  \" fill=\"#009af9\" fill-rule=\"evenodd\" fill-opacity=\"1\"/>\n",
       "<polyline clip-path=\"url(#clip652)\" style=\"stroke:#000000; stroke-linecap:butt; stroke-linejoin:round; stroke-width:4; stroke-opacity:1; fill:none\" points=\"\n",
       "  1575.25,570.728 1575.25,1445.72 1793.89,1445.72 1793.89,570.728 1575.25,570.728 \n",
       "  \"/>\n",
       "<path clip-path=\"url(#clip652)\" d=\"\n",
       "M1793.89 1083.65 L1793.89 1445.72 L2012.52 1445.72 L2012.52 1083.65 L1793.89 1083.65 L1793.89 1083.65  Z\n",
       "  \" fill=\"#009af9\" fill-rule=\"evenodd\" fill-opacity=\"1\"/>\n",
       "<polyline clip-path=\"url(#clip652)\" style=\"stroke:#000000; stroke-linecap:butt; stroke-linejoin:round; stroke-width:4; stroke-opacity:1; fill:none\" points=\"\n",
       "  1793.89,1083.65 1793.89,1445.72 2012.52,1445.72 2012.52,1083.65 1793.89,1083.65 \n",
       "  \"/>\n",
       "<path clip-path=\"url(#clip652)\" d=\"\n",
       "M2012.52 1415.54 L2012.52 1445.72 L2231.15 1445.72 L2231.15 1415.54 L2012.52 1415.54 L2012.52 1415.54  Z\n",
       "  \" fill=\"#009af9\" fill-rule=\"evenodd\" fill-opacity=\"1\"/>\n",
       "<polyline clip-path=\"url(#clip652)\" style=\"stroke:#000000; stroke-linecap:butt; stroke-linejoin:round; stroke-width:4; stroke-opacity:1; fill:none\" points=\"\n",
       "  2012.52,1415.54 2012.52,1445.72 2231.15,1445.72 2231.15,1415.54 2012.52,1415.54 \n",
       "  \"/>\n",
       "<circle clip-path=\"url(#clip652)\" style=\"fill:#009af9; stroke:none; fill-opacity:0\" cx=\"372.773\" cy=\"1415.54\" r=\"2\"/>\n",
       "<circle clip-path=\"url(#clip652)\" style=\"fill:#009af9; stroke:none; fill-opacity:0\" cx=\"591.406\" cy=\"1445.72\" r=\"2\"/>\n",
       "<circle clip-path=\"url(#clip652)\" style=\"fill:#009af9; stroke:none; fill-opacity:0\" cx=\"810.039\" cy=\"1445.72\" r=\"2\"/>\n",
       "<circle clip-path=\"url(#clip652)\" style=\"fill:#009af9; stroke:none; fill-opacity:0\" cx=\"1028.67\" cy=\"1385.37\" r=\"2\"/>\n",
       "<circle clip-path=\"url(#clip652)\" style=\"fill:#009af9; stroke:none; fill-opacity:0\" cx=\"1247.3\" cy=\"1144\" r=\"2\"/>\n",
       "<circle clip-path=\"url(#clip652)\" style=\"fill:#009af9; stroke:none; fill-opacity:0\" cx=\"1465.94\" cy=\"87.9763\" r=\"2\"/>\n",
       "<circle clip-path=\"url(#clip652)\" style=\"fill:#009af9; stroke:none; fill-opacity:0\" cx=\"1684.57\" cy=\"570.728\" r=\"2\"/>\n",
       "<circle clip-path=\"url(#clip652)\" style=\"fill:#009af9; stroke:none; fill-opacity:0\" cx=\"1903.2\" cy=\"1083.65\" r=\"2\"/>\n",
       "<circle clip-path=\"url(#clip652)\" style=\"fill:#009af9; stroke:none; fill-opacity:0\" cx=\"2121.84\" cy=\"1415.54\" r=\"2\"/>\n",
       "<path clip-path=\"url(#clip650)\" d=\"\n",
       "M1980.97 198.898 L2279.06 198.898 L2279.06 95.2176 L1980.97 95.2176  Z\n",
       "  \" fill=\"#ffffff\" fill-rule=\"evenodd\" fill-opacity=\"1\"/>\n",
       "<polyline clip-path=\"url(#clip650)\" style=\"stroke:#000000; stroke-linecap:butt; stroke-linejoin:round; stroke-width:4; stroke-opacity:1; fill:none\" points=\"\n",
       "  1980.97,198.898 2279.06,198.898 2279.06,95.2176 1980.97,95.2176 1980.97,198.898 \n",
       "  \"/>\n",
       "<path clip-path=\"url(#clip650)\" d=\"\n",
       "M2005.54 167.794 L2152.93 167.794 L2152.93 126.322 L2005.54 126.322 L2005.54 167.794  Z\n",
       "  \" fill=\"#009af9\" fill-rule=\"evenodd\" fill-opacity=\"1\"/>\n",
       "<polyline clip-path=\"url(#clip650)\" style=\"stroke:#000000; stroke-linecap:butt; stroke-linejoin:round; stroke-width:4; stroke-opacity:1; fill:none\" points=\"\n",
       "  2005.54,167.794 2152.93,167.794 2152.93,126.322 2005.54,126.322 2005.54,167.794 \n",
       "  \"/>\n",
       "<path clip-path=\"url(#clip650)\" d=\"M2191.34 166.745 Q2189.53 171.375 2187.82 172.787 Q2186.11 174.199 2183.24 174.199 L2179.84 174.199 L2179.84 170.634 L2182.34 170.634 Q2184.09 170.634 2185.07 169.8 Q2186.04 168.967 2187.22 165.865 L2187.98 163.921 L2177.5 138.412 L2182.01 138.412 L2190.11 158.689 L2198.22 138.412 L2202.73 138.412 L2191.34 166.745 Z\" fill=\"#000000\" fill-rule=\"evenodd\" fill-opacity=\"1\" /><path clip-path=\"url(#clip650)\" d=\"M2210.02 160.402 L2217.66 160.402 L2217.66 134.037 L2209.35 135.703 L2209.35 131.444 L2217.61 129.778 L2222.29 129.778 L2222.29 160.402 L2229.93 160.402 L2229.93 164.338 L2210.02 164.338 L2210.02 160.402 Z\" fill=\"#000000\" fill-rule=\"evenodd\" fill-opacity=\"1\" /></svg>\n"
      ]
     },
     "execution_count": 44,
     "metadata": {},
     "output_type": "execute_result"
    }
   ],
   "source": [
    "histogram(rollouts_zach)"
   ]
  },
  {
   "cell_type": "code",
   "execution_count": 47,
   "metadata": {},
   "outputs": [
    {
     "data": {
      "text/plain": [
       "BenchmarkTools.Trial: 5799 samples with 1 evaluation.\n",
       " Range \u001b[90m(\u001b[39m\u001b[36m\u001b[1mmin\u001b[22m\u001b[39m … \u001b[35mmax\u001b[39m\u001b[90m):  \u001b[39m\u001b[36m\u001b[1m617.109 μs\u001b[22m\u001b[39m … \u001b[35m 11.783 ms\u001b[39m  \u001b[90m┊\u001b[39m GC \u001b[90m(\u001b[39mmin … max\u001b[90m): \u001b[39m0.00% … 92.11%\n",
       " Time  \u001b[90m(\u001b[39m\u001b[34m\u001b[1mmedian\u001b[22m\u001b[39m\u001b[90m):     \u001b[39m\u001b[34m\u001b[1m791.447 μs               \u001b[22m\u001b[39m\u001b[90m┊\u001b[39m GC \u001b[90m(\u001b[39mmedian\u001b[90m):    \u001b[39m0.00%\n",
       " Time  \u001b[90m(\u001b[39m\u001b[32m\u001b[1mmean\u001b[22m\u001b[39m ± \u001b[32mσ\u001b[39m\u001b[90m):   \u001b[39m\u001b[32m\u001b[1m851.072 μs\u001b[22m\u001b[39m ± \u001b[32m626.427 μs\u001b[39m  \u001b[90m┊\u001b[39m GC \u001b[90m(\u001b[39mmean ± σ\u001b[90m):  \u001b[39m4.71% ±  5.98%\n",
       "\n",
       "  \u001b[39m \u001b[39m \u001b[39m \u001b[39m \u001b[39m \u001b[39m \u001b[39m \u001b[39m \u001b[39m \u001b[39m \u001b[39m▁\u001b[39m▅\u001b[39m▄\u001b[39m▆\u001b[39m▆\u001b[39m█\u001b[34m█\u001b[39m\u001b[39m▅\u001b[39m▅\u001b[39m▂\u001b[39m \u001b[39m \u001b[32m \u001b[39m\u001b[39m \u001b[39m \u001b[39m \u001b[39m \u001b[39m \u001b[39m \u001b[39m \u001b[39m \u001b[39m \u001b[39m \u001b[39m \u001b[39m \u001b[39m \u001b[39m \u001b[39m \u001b[39m \u001b[39m \u001b[39m \u001b[39m \u001b[39m \u001b[39m \u001b[39m \u001b[39m \u001b[39m \u001b[39m \u001b[39m \u001b[39m \u001b[39m \u001b[39m \u001b[39m \u001b[39m \u001b[39m \u001b[39m \u001b[39m \u001b[39m \u001b[39m \u001b[39m \u001b[39m \u001b[39m \u001b[39m \n",
       "  \u001b[39m▁\u001b[39m▁\u001b[39m▁\u001b[39m▁\u001b[39m▃\u001b[39m▆\u001b[39m▆\u001b[39m█\u001b[39m▆\u001b[39m▇\u001b[39m█\u001b[39m█\u001b[39m█\u001b[39m█\u001b[39m█\u001b[39m█\u001b[34m█\u001b[39m\u001b[39m█\u001b[39m█\u001b[39m█\u001b[39m█\u001b[39m█\u001b[32m▆\u001b[39m\u001b[39m▆\u001b[39m▅\u001b[39m▅\u001b[39m▄\u001b[39m▄\u001b[39m▄\u001b[39m▃\u001b[39m▃\u001b[39m▃\u001b[39m▂\u001b[39m▂\u001b[39m▂\u001b[39m▂\u001b[39m▂\u001b[39m▂\u001b[39m▂\u001b[39m▂\u001b[39m▁\u001b[39m▂\u001b[39m▂\u001b[39m▁\u001b[39m▁\u001b[39m▁\u001b[39m▁\u001b[39m▁\u001b[39m▁\u001b[39m▁\u001b[39m▁\u001b[39m▁\u001b[39m▁\u001b[39m▁\u001b[39m▁\u001b[39m▁\u001b[39m▁\u001b[39m▁\u001b[39m▁\u001b[39m▁\u001b[39m▁\u001b[39m \u001b[39m▃\n",
       "  617 μs\u001b[90m           Histogram: frequency by time\u001b[39m         1.27 ms \u001b[0m\u001b[1m<\u001b[22m\n",
       "\n",
       " Memory estimate\u001b[90m: \u001b[39m\u001b[33m258.75 KiB\u001b[39m, allocs estimate\u001b[90m: \u001b[39m\u001b[33m9997\u001b[39m."
      ]
     },
     "execution_count": 47,
     "metadata": {},
     "output_type": "execute_result"
    }
   ],
   "source": [
    "@benchmark action(planner, init)"
   ]
  },
  {
   "cell_type": "code",
   "execution_count": 45,
   "metadata": {},
   "outputs": [
    {
     "data": {
      "text/plain": [
       "BenchmarkTools.Trial: 7 samples with 1 evaluation.\n",
       " Range \u001b[90m(\u001b[39m\u001b[36m\u001b[1mmin\u001b[22m\u001b[39m … \u001b[35mmax\u001b[39m\u001b[90m):  \u001b[39m\u001b[36m\u001b[1m639.906 ms\u001b[22m\u001b[39m … \u001b[35m   1.028 s\u001b[39m  \u001b[90m┊\u001b[39m GC \u001b[90m(\u001b[39mmin … max\u001b[90m): \u001b[39m5.01% … 5.33%\n",
       " Time  \u001b[90m(\u001b[39m\u001b[34m\u001b[1mmedian\u001b[22m\u001b[39m\u001b[90m):     \u001b[39m\u001b[34m\u001b[1m733.893 ms               \u001b[22m\u001b[39m\u001b[90m┊\u001b[39m GC \u001b[90m(\u001b[39mmedian\u001b[90m):    \u001b[39m4.46%\n",
       " Time  \u001b[90m(\u001b[39m\u001b[32m\u001b[1mmean\u001b[22m\u001b[39m ± \u001b[32mσ\u001b[39m\u001b[90m):   \u001b[39m\u001b[32m\u001b[1m789.451 ms\u001b[22m\u001b[39m ± \u001b[32m152.799 ms\u001b[39m  \u001b[90m┊\u001b[39m GC \u001b[90m(\u001b[39mmean ± σ\u001b[90m):  \u001b[39m4.59% ± 0.59%\n",
       "\n",
       "  \u001b[39m█\u001b[39m \u001b[39m \u001b[39m \u001b[39m \u001b[39m \u001b[39m \u001b[39m \u001b[39m \u001b[39m \u001b[39m▁\u001b[34m \u001b[39m\u001b[39m \u001b[39m \u001b[39m▁\u001b[39m \u001b[39m \u001b[39m \u001b[39m \u001b[39m \u001b[39m \u001b[39m \u001b[39m \u001b[39m \u001b[32m \u001b[39m\u001b[39m \u001b[39m \u001b[39m▁\u001b[39m \u001b[39m \u001b[39m \u001b[39m \u001b[39m \u001b[39m \u001b[39m \u001b[39m \u001b[39m \u001b[39m \u001b[39m \u001b[39m \u001b[39m \u001b[39m \u001b[39m \u001b[39m \u001b[39m \u001b[39m \u001b[39m \u001b[39m \u001b[39m \u001b[39m \u001b[39m▁\u001b[39m \u001b[39m \u001b[39m \u001b[39m \u001b[39m \u001b[39m \u001b[39m \u001b[39m \u001b[39m \u001b[39m▁\u001b[39m \u001b[39m \n",
       "  \u001b[39m█\u001b[39m▁\u001b[39m▁\u001b[39m▁\u001b[39m▁\u001b[39m▁\u001b[39m▁\u001b[39m▁\u001b[39m▁\u001b[39m▁\u001b[39m█\u001b[34m▁\u001b[39m\u001b[39m▁\u001b[39m▁\u001b[39m█\u001b[39m▁\u001b[39m▁\u001b[39m▁\u001b[39m▁\u001b[39m▁\u001b[39m▁\u001b[39m▁\u001b[39m▁\u001b[39m▁\u001b[32m▁\u001b[39m\u001b[39m▁\u001b[39m▁\u001b[39m█\u001b[39m▁\u001b[39m▁\u001b[39m▁\u001b[39m▁\u001b[39m▁\u001b[39m▁\u001b[39m▁\u001b[39m▁\u001b[39m▁\u001b[39m▁\u001b[39m▁\u001b[39m▁\u001b[39m▁\u001b[39m▁\u001b[39m▁\u001b[39m▁\u001b[39m▁\u001b[39m▁\u001b[39m▁\u001b[39m▁\u001b[39m▁\u001b[39m▁\u001b[39m█\u001b[39m▁\u001b[39m▁\u001b[39m▁\u001b[39m▁\u001b[39m▁\u001b[39m▁\u001b[39m▁\u001b[39m▁\u001b[39m▁\u001b[39m█\u001b[39m \u001b[39m▁\n",
       "  640 ms\u001b[90m           Histogram: frequency by time\u001b[39m          1.03 s \u001b[0m\u001b[1m<\u001b[22m\n",
       "\n",
       " Memory estimate\u001b[90m: \u001b[39m\u001b[33m167.30 MiB\u001b[39m, allocs estimate\u001b[90m: \u001b[39m\u001b[33m6612233\u001b[39m."
      ]
     },
     "execution_count": 45,
     "metadata": {},
     "output_type": "execute_result"
    }
   ],
   "source": [
    "@benchmark simulate(RolloutSimulator(), twenty_forty_eight, planner, init)"
   ]
  }
 ],
 "metadata": {
  "kernelspec": {
   "display_name": "Julia 1.6.0",
   "language": "julia",
   "name": "julia-1.6"
  },
  "language_info": {
   "file_extension": ".jl",
   "mimetype": "application/julia",
   "name": "julia",
   "version": "1.6.0"
  }
 },
 "nbformat": 4,
 "nbformat_minor": 5
}
